{
  "nbformat": 4,
  "nbformat_minor": 0,
  "metadata": {
    "colab": {
      "provenance": [],
      "authorship_tag": "ABX9TyOyqMFL+EhE2nSg8V5w3Mio"
    },
    "kernelspec": {
      "name": "ir",
      "display_name": "R"
    },
    "language_info": {
      "name": "R"
    }
  },
  "cells": [
    {
      "cell_type": "markdown",
      "source": [
        "## Psi Chi R - July 2025\n",
        "\n",
        "https://osf.io/wxmzk/wiki/home/"
      ],
      "metadata": {
        "id": "9rA6gOcLoqRw"
      }
    },
    {
      "cell_type": "markdown",
      "source": [
        "Level 1: Preparing the data\n",
        "\n",
        "• Remove participants who are missing ‘Age’ and ‘BPM’\n",
        "\n",
        "Level 2: Data inspection\n",
        "\n",
        "• Identify participants with values considered outliers for ‘BPM’.\n",
        "\n",
        "a. Test your skills: Visualize outlier values for ‘BPM’.\n",
        "\n",
        "• Is BPM skewed? If so, how?\n",
        "\n",
        "• Identify participants with values considered outliers for ‘hourslistened’\n",
        "\n",
        "• Remove participants with values considered outliers on ‘BPM’ and ‘hourslistened’\n",
        "\n",
        "Level 2: Descriptives\n",
        "\n",
        "• Find the mean, standard deviation, median, and range of ‘hourslistened’\n",
        "\n",
        "a. Test your skills: Find the mean, standard deviation, median, and range of ‘hourslistened’ in one step.\n",
        "\n",
        "Level 3: Inferential + Other Statistics\n",
        "\n",
        "• Is there a statistically significant correlation between the number of hours someone listened to EDM and their depression score?\n",
        "\n",
        "• Is there a significant relationship between the frequency of listening to metal music and the mental health effects of listening to music?\n",
        "\n",
        "Test your skills: Is there a statistically significant difference in anxiety scores between people who listen to Jazz ‘very frequently’ and ‘never?’\n",
        "\n",
        "Test your skills: Is there a statistically significant difference in Insomnia scores between people whose favorite genre is “pop” and people whose favorite genre is “rap?”\n",
        "\n",
        "Level 4: Visualization\n",
        "\n",
        "• Graph the relationship between the number of hours someone listens to music and their OCD score"
      ],
      "metadata": {
        "id": "7r8fiJMbpg5v"
      }
    },
    {
      "cell_type": "markdown",
      "source": [
        "## Load packages"
      ],
      "metadata": {
        "id": "HfAwtibQ6HjK"
      }
    },
    {
      "cell_type": "code",
      "source": [
        "rm(list=ls())"
      ],
      "metadata": {
        "id": "IcrEhtBpzyQ8"
      },
      "execution_count": null,
      "outputs": []
    },
    {
      "cell_type": "code",
      "execution_count": 20,
      "metadata": {
        "id": "PlG3cQwYcSuI"
      },
      "outputs": [],
      "source": [
        "\n",
        "## sum rows\n",
        "sum_rows = function(x) {\n",
        "  x = as.data.frame(x)\n",
        "  sums = sapply(x,function(col) if (is.numeric(col)) sum(col, na.rm = T) else NA)\n",
        "  sums = as.data.frame(t(sums))\n",
        "  names(sums) = names(x)\n",
        "  rbind(x, sums)\n",
        "}\n",
        "\n",
        "## right column for total\n",
        "sum_cols = function(x) {\n",
        "  x$Total = rowSums(x[sapply(x, is.numeric)], na.rm = T)\n",
        "  x\n",
        "}\n",
        "\n",
        "#dollar format function\n",
        "dollars = function(x) {\n",
        "  paste0(\"$\",format(x,big.mark= \",\",scientific=F))\n",
        "}\n",
        "\n",
        "desc_stats = function(x){\n",
        "  c(min = min(x,na.rm=T),\n",
        "    median = median(x,na.rm=T),\n",
        "    max = max(x,na.rm=T),\n",
        "    mean = mean(x,na.rm=T),\n",
        "    sd = sd(x,na.rm=T))\n",
        "}\n",
        "\n",
        "#numeric notations\n",
        "options(scipen=9999)\n",
        "\n",
        "library(tidyverse)\n",
        "#library(readxl)"
      ]
    },
    {
      "cell_type": "code",
      "source": [
        "sheet_URL = \"https://osf.io/download/edn8q/\"\n",
        "\n",
        "download.file(sheet_URL, destfile = \"data.csv\")\n",
        "\n",
        "data = read.csv(\"data.csv\")"
      ],
      "metadata": {
        "id": "GC38wTNm8M3p"
      },
      "execution_count": 3,
      "outputs": []
    },
    {
      "cell_type": "code",
      "source": [
        "data |> head()\n",
        "tail(data)"
      ],
      "metadata": {
        "id": "tRRsXan-r6rW",
        "colab": {
          "base_uri": "https://localhost:8080/",
          "height": 801
        },
        "outputId": "ee7e73e2-34b2-40eb-f95c-f63ceba9c13a"
      },
      "execution_count": 8,
      "outputs": [
        {
          "output_type": "display_data",
          "data": {
            "text/html": [
              "<table class=\"dataframe\">\n",
              "<caption>A data.frame: 6 × 32</caption>\n",
              "<thead>\n",
              "\t<tr><th></th><th scope=col>timestamp</th><th scope=col>age</th><th scope=col>primary.streaming.service</th><th scope=col>hourslistened</th><th scope=col>while.working</th><th scope=col>instrumentalist</th><th scope=col>composer</th><th scope=col>fav.genre</th><th scope=col>exploratory</th><th scope=col>foreign.languages</th><th scope=col>⋯</th><th scope=col>frequency..pop.</th><th scope=col>frequency..r.b.</th><th scope=col>frequency..rap.</th><th scope=col>frequency..rock.</th><th scope=col>frequency..video.game.music.</th><th scope=col>anxiety</th><th scope=col>depression</th><th scope=col>insomnia</th><th scope=col>ocd</th><th scope=col>music.effects</th></tr>\n",
              "\t<tr><th></th><th scope=col>&lt;chr&gt;</th><th scope=col>&lt;int&gt;</th><th scope=col>&lt;chr&gt;</th><th scope=col>&lt;dbl&gt;</th><th scope=col>&lt;chr&gt;</th><th scope=col>&lt;chr&gt;</th><th scope=col>&lt;chr&gt;</th><th scope=col>&lt;chr&gt;</th><th scope=col>&lt;chr&gt;</th><th scope=col>&lt;chr&gt;</th><th scope=col>⋯</th><th scope=col>&lt;chr&gt;</th><th scope=col>&lt;chr&gt;</th><th scope=col>&lt;chr&gt;</th><th scope=col>&lt;chr&gt;</th><th scope=col>&lt;chr&gt;</th><th scope=col>&lt;dbl&gt;</th><th scope=col>&lt;dbl&gt;</th><th scope=col>&lt;dbl&gt;</th><th scope=col>&lt;dbl&gt;</th><th scope=col>&lt;chr&gt;</th></tr>\n",
              "</thead>\n",
              "<tbody>\n",
              "\t<tr><th scope=row>1</th><td>8/27/2022 19:29</td><td>18</td><td>Spotify      </td><td>3.0</td><td>Yes</td><td>Yes</td><td>Yes</td><td>Latin           </td><td>Yes</td><td>Yes</td><td>⋯</td><td>Very frequently</td><td>Sometimes      </td><td>Very frequently</td><td>Never          </td><td>Sometimes      </td><td>3</td><td>0</td><td> 1</td><td>0</td><td>         </td></tr>\n",
              "\t<tr><th scope=row>2</th><td>8/27/2022 19:57</td><td>63</td><td>Pandora      </td><td>1.5</td><td>Yes</td><td>No </td><td>No </td><td>Rock            </td><td>Yes</td><td>No </td><td>⋯</td><td>Sometimes      </td><td>Sometimes      </td><td>Rarely         </td><td>Very frequently</td><td>Rarely         </td><td>7</td><td>2</td><td> 2</td><td>1</td><td>         </td></tr>\n",
              "\t<tr><th scope=row>3</th><td>8/27/2022 21:28</td><td>18</td><td>Spotify      </td><td>4.0</td><td>No </td><td>No </td><td>No </td><td>Video game music</td><td>No </td><td>Yes</td><td>⋯</td><td>Rarely         </td><td>Never          </td><td>Rarely         </td><td>Rarely         </td><td>Very frequently</td><td>7</td><td>7</td><td>10</td><td>2</td><td>No effect</td></tr>\n",
              "\t<tr><th scope=row>4</th><td>8/27/2022 21:40</td><td>61</td><td>YouTube Music</td><td>2.5</td><td>Yes</td><td>No </td><td>Yes</td><td>Jazz            </td><td>Yes</td><td>Yes</td><td>⋯</td><td>Sometimes      </td><td>Sometimes      </td><td>Never          </td><td>Never          </td><td>Never          </td><td>9</td><td>7</td><td> 3</td><td>3</td><td>Improve  </td></tr>\n",
              "\t<tr><th scope=row>5</th><td>8/27/2022 21:54</td><td>18</td><td><span style=white-space:pre-wrap>Spotify      </span></td><td>4.0</td><td>Yes</td><td>No </td><td>No </td><td><span style=white-space:pre-wrap>R&amp;B             </span></td><td>Yes</td><td>No </td><td>⋯</td><td><span style=white-space:pre-wrap>Sometimes      </span></td><td>Very frequently</td><td>Very frequently</td><td><span style=white-space:pre-wrap>Never          </span></td><td><span style=white-space:pre-wrap>Rarely         </span></td><td>7</td><td>2</td><td> 5</td><td>9</td><td><span style=white-space:pre-wrap>Improve  </span></td></tr>\n",
              "\t<tr><th scope=row>6</th><td>8/27/2022 21:56</td><td>18</td><td>Spotify      </td><td>5.0</td><td>Yes</td><td>Yes</td><td>Yes</td><td>Jazz            </td><td>Yes</td><td>Yes</td><td>⋯</td><td>Very frequently</td><td>Very frequently</td><td>Very frequently</td><td>Very frequently</td><td>Never          </td><td>8</td><td>8</td><td> 7</td><td>7</td><td>Improve  </td></tr>\n",
              "</tbody>\n",
              "</table>\n"
            ],
            "text/markdown": "\nA data.frame: 6 × 32\n\n| <!--/--> | timestamp &lt;chr&gt; | age &lt;int&gt; | primary.streaming.service &lt;chr&gt; | hourslistened &lt;dbl&gt; | while.working &lt;chr&gt; | instrumentalist &lt;chr&gt; | composer &lt;chr&gt; | fav.genre &lt;chr&gt; | exploratory &lt;chr&gt; | foreign.languages &lt;chr&gt; | ⋯ ⋯ | frequency..pop. &lt;chr&gt; | frequency..r.b. &lt;chr&gt; | frequency..rap. &lt;chr&gt; | frequency..rock. &lt;chr&gt; | frequency..video.game.music. &lt;chr&gt; | anxiety &lt;dbl&gt; | depression &lt;dbl&gt; | insomnia &lt;dbl&gt; | ocd &lt;dbl&gt; | music.effects &lt;chr&gt; |\n|---|---|---|---|---|---|---|---|---|---|---|---|---|---|---|---|---|---|---|---|---|---|\n| 1 | 8/27/2022 19:29 | 18 | Spotify       | 3.0 | Yes | Yes | Yes | Latin            | Yes | Yes | ⋯ | Very frequently | Sometimes       | Very frequently | Never           | Sometimes       | 3 | 0 |  1 | 0 | <!----> |\n| 2 | 8/27/2022 19:57 | 63 | Pandora       | 1.5 | Yes | No  | No  | Rock             | Yes | No  | ⋯ | Sometimes       | Sometimes       | Rarely          | Very frequently | Rarely          | 7 | 2 |  2 | 1 | <!----> |\n| 3 | 8/27/2022 21:28 | 18 | Spotify       | 4.0 | No  | No  | No  | Video game music | No  | Yes | ⋯ | Rarely          | Never           | Rarely          | Rarely          | Very frequently | 7 | 7 | 10 | 2 | No effect |\n| 4 | 8/27/2022 21:40 | 61 | YouTube Music | 2.5 | Yes | No  | Yes | Jazz             | Yes | Yes | ⋯ | Sometimes       | Sometimes       | Never           | Never           | Never           | 9 | 7 |  3 | 3 | Improve   |\n| 5 | 8/27/2022 21:54 | 18 | Spotify       | 4.0 | Yes | No  | No  | R&amp;B              | Yes | No  | ⋯ | Sometimes       | Very frequently | Very frequently | Never           | Rarely          | 7 | 2 |  5 | 9 | Improve   |\n| 6 | 8/27/2022 21:56 | 18 | Spotify       | 5.0 | Yes | Yes | Yes | Jazz             | Yes | Yes | ⋯ | Very frequently | Very frequently | Very frequently | Very frequently | Never           | 8 | 8 |  7 | 7 | Improve   |\n\n",
            "text/latex": "A data.frame: 6 × 32\n\\begin{tabular}{r|lllllllllllllllllllll}\n  & timestamp & age & primary.streaming.service & hourslistened & while.working & instrumentalist & composer & fav.genre & exploratory & foreign.languages & ⋯ & frequency..pop. & frequency..r.b. & frequency..rap. & frequency..rock. & frequency..video.game.music. & anxiety & depression & insomnia & ocd & music.effects\\\\\n  & <chr> & <int> & <chr> & <dbl> & <chr> & <chr> & <chr> & <chr> & <chr> & <chr> & ⋯ & <chr> & <chr> & <chr> & <chr> & <chr> & <dbl> & <dbl> & <dbl> & <dbl> & <chr>\\\\\n\\hline\n\t1 & 8/27/2022 19:29 & 18 & Spotify       & 3.0 & Yes & Yes & Yes & Latin            & Yes & Yes & ⋯ & Very frequently & Sometimes       & Very frequently & Never           & Sometimes       & 3 & 0 &  1 & 0 &          \\\\\n\t2 & 8/27/2022 19:57 & 63 & Pandora       & 1.5 & Yes & No  & No  & Rock             & Yes & No  & ⋯ & Sometimes       & Sometimes       & Rarely          & Very frequently & Rarely          & 7 & 2 &  2 & 1 &          \\\\\n\t3 & 8/27/2022 21:28 & 18 & Spotify       & 4.0 & No  & No  & No  & Video game music & No  & Yes & ⋯ & Rarely          & Never           & Rarely          & Rarely          & Very frequently & 7 & 7 & 10 & 2 & No effect\\\\\n\t4 & 8/27/2022 21:40 & 61 & YouTube Music & 2.5 & Yes & No  & Yes & Jazz             & Yes & Yes & ⋯ & Sometimes       & Sometimes       & Never           & Never           & Never           & 9 & 7 &  3 & 3 & Improve  \\\\\n\t5 & 8/27/2022 21:54 & 18 & Spotify       & 4.0 & Yes & No  & No  & R\\&B              & Yes & No  & ⋯ & Sometimes       & Very frequently & Very frequently & Never           & Rarely          & 7 & 2 &  5 & 9 & Improve  \\\\\n\t6 & 8/27/2022 21:56 & 18 & Spotify       & 5.0 & Yes & Yes & Yes & Jazz             & Yes & Yes & ⋯ & Very frequently & Very frequently & Very frequently & Very frequently & Never           & 8 & 8 &  7 & 7 & Improve  \\\\\n\\end{tabular}\n",
            "text/plain": [
              "  timestamp       age primary.streaming.service hourslistened while.working\n",
              "1 8/27/2022 19:29 18  Spotify                   3.0           Yes          \n",
              "2 8/27/2022 19:57 63  Pandora                   1.5           Yes          \n",
              "3 8/27/2022 21:28 18  Spotify                   4.0           No           \n",
              "4 8/27/2022 21:40 61  YouTube Music             2.5           Yes          \n",
              "5 8/27/2022 21:54 18  Spotify                   4.0           Yes          \n",
              "6 8/27/2022 21:56 18  Spotify                   5.0           Yes          \n",
              "  instrumentalist composer fav.genre        exploratory foreign.languages ⋯\n",
              "1 Yes             Yes      Latin            Yes         Yes               ⋯\n",
              "2 No              No       Rock             Yes         No                ⋯\n",
              "3 No              No       Video game music No          Yes               ⋯\n",
              "4 No              Yes      Jazz             Yes         Yes               ⋯\n",
              "5 No              No       R&B              Yes         No                ⋯\n",
              "6 Yes             Yes      Jazz             Yes         Yes               ⋯\n",
              "  frequency..pop. frequency..r.b. frequency..rap. frequency..rock.\n",
              "1 Very frequently Sometimes       Very frequently Never           \n",
              "2 Sometimes       Sometimes       Rarely          Very frequently \n",
              "3 Rarely          Never           Rarely          Rarely          \n",
              "4 Sometimes       Sometimes       Never           Never           \n",
              "5 Sometimes       Very frequently Very frequently Never           \n",
              "6 Very frequently Very frequently Very frequently Very frequently \n",
              "  frequency..video.game.music. anxiety depression insomnia ocd music.effects\n",
              "1 Sometimes                    3       0           1       0                \n",
              "2 Rarely                       7       2           2       1                \n",
              "3 Very frequently              7       7          10       2   No effect    \n",
              "4 Never                        9       7           3       3   Improve      \n",
              "5 Rarely                       7       2           5       9   Improve      \n",
              "6 Never                        8       8           7       7   Improve      "
            ]
          },
          "metadata": {}
        },
        {
          "output_type": "display_data",
          "data": {
            "text/html": [
              "<table class=\"dataframe\">\n",
              "<caption>A data.frame: 6 × 32</caption>\n",
              "<thead>\n",
              "\t<tr><th></th><th scope=col>timestamp</th><th scope=col>age</th><th scope=col>primary.streaming.service</th><th scope=col>hourslistened</th><th scope=col>while.working</th><th scope=col>instrumentalist</th><th scope=col>composer</th><th scope=col>fav.genre</th><th scope=col>exploratory</th><th scope=col>foreign.languages</th><th scope=col>⋯</th><th scope=col>frequency..pop.</th><th scope=col>frequency..r.b.</th><th scope=col>frequency..rap.</th><th scope=col>frequency..rock.</th><th scope=col>frequency..video.game.music.</th><th scope=col>anxiety</th><th scope=col>depression</th><th scope=col>insomnia</th><th scope=col>ocd</th><th scope=col>music.effects</th></tr>\n",
              "\t<tr><th></th><th scope=col>&lt;chr&gt;</th><th scope=col>&lt;int&gt;</th><th scope=col>&lt;chr&gt;</th><th scope=col>&lt;dbl&gt;</th><th scope=col>&lt;chr&gt;</th><th scope=col>&lt;chr&gt;</th><th scope=col>&lt;chr&gt;</th><th scope=col>&lt;chr&gt;</th><th scope=col>&lt;chr&gt;</th><th scope=col>&lt;chr&gt;</th><th scope=col>⋯</th><th scope=col>&lt;chr&gt;</th><th scope=col>&lt;chr&gt;</th><th scope=col>&lt;chr&gt;</th><th scope=col>&lt;chr&gt;</th><th scope=col>&lt;chr&gt;</th><th scope=col>&lt;dbl&gt;</th><th scope=col>&lt;dbl&gt;</th><th scope=col>&lt;dbl&gt;</th><th scope=col>&lt;dbl&gt;</th><th scope=col>&lt;chr&gt;</th></tr>\n",
              "</thead>\n",
              "<tbody>\n",
              "\t<tr><th scope=row>731</th><td>10/30/2022 13:15</td><td>21</td><td><span style=white-space:pre-wrap>Spotify                </span></td><td>2</td><td>Yes</td><td>No </td><td>No </td><td><span style=white-space:pre-wrap>R&amp;B      </span></td><td>Yes</td><td>Yes</td><td>⋯</td><td><span style=white-space:pre-wrap>Sometimes      </span></td><td>Very frequently</td><td><span style=white-space:pre-wrap>Sometimes      </span></td><td><span style=white-space:pre-wrap>Sometimes      </span></td><td>Sometimes</td><td>7</td><td>6</td><td>4</td><td>6</td><td>Improve</td></tr>\n",
              "\t<tr><th scope=row>732</th><td>10/30/2022 14:37</td><td>17</td><td>Spotify                </td><td>2</td><td>Yes</td><td>Yes</td><td>No </td><td>Rock     </td><td>Yes</td><td>Yes</td><td>⋯</td><td>Very frequently</td><td>Never          </td><td>Rarely         </td><td>Very frequently</td><td>Never    </td><td>7</td><td>6</td><td>0</td><td>9</td><td>Improve</td></tr>\n",
              "\t<tr><th scope=row>733</th><td>11/1/2022 22:26 </td><td>18</td><td>Spotify                </td><td>1</td><td>Yes</td><td>Yes</td><td>No </td><td>Pop      </td><td>Yes</td><td>Yes</td><td>⋯</td><td>Very frequently</td><td>Never          </td><td>Never          </td><td>Sometimes      </td><td>Sometimes</td><td>3</td><td>2</td><td>2</td><td>5</td><td>Improve</td></tr>\n",
              "\t<tr><th scope=row>734</th><td>11/3/2022 23:24 </td><td>19</td><td>Other streaming service</td><td>6</td><td>Yes</td><td>No </td><td>Yes</td><td>Rap      </td><td>Yes</td><td>No </td><td>⋯</td><td>Sometimes      </td><td>Sometimes      </td><td>Sometimes      </td><td>Rarely         </td><td>Rarely   </td><td>2</td><td>2</td><td>2</td><td>2</td><td>Improve</td></tr>\n",
              "\t<tr><th scope=row>735</th><td>11/4/2022 17:31 </td><td>19</td><td>Spotify                </td><td>5</td><td>Yes</td><td>Yes</td><td>No </td><td>Classical</td><td>No </td><td>No </td><td>⋯</td><td>Never          </td><td>Never          </td><td>Never          </td><td>Never          </td><td>Sometimes</td><td>2</td><td>3</td><td>2</td><td>1</td><td>Improve</td></tr>\n",
              "\t<tr><th scope=row>736</th><td>11/9/2022 1:55  </td><td>29</td><td>YouTube Music          </td><td>2</td><td>Yes</td><td>No </td><td>No </td><td>Hip hop  </td><td>Yes</td><td>Yes</td><td>⋯</td><td>Sometimes      </td><td>Very frequently</td><td>Very frequently</td><td>Very frequently</td><td>Rarely   </td><td>2</td><td>2</td><td>2</td><td>5</td><td>Improve</td></tr>\n",
              "</tbody>\n",
              "</table>\n"
            ],
            "text/markdown": "\nA data.frame: 6 × 32\n\n| <!--/--> | timestamp &lt;chr&gt; | age &lt;int&gt; | primary.streaming.service &lt;chr&gt; | hourslistened &lt;dbl&gt; | while.working &lt;chr&gt; | instrumentalist &lt;chr&gt; | composer &lt;chr&gt; | fav.genre &lt;chr&gt; | exploratory &lt;chr&gt; | foreign.languages &lt;chr&gt; | ⋯ ⋯ | frequency..pop. &lt;chr&gt; | frequency..r.b. &lt;chr&gt; | frequency..rap. &lt;chr&gt; | frequency..rock. &lt;chr&gt; | frequency..video.game.music. &lt;chr&gt; | anxiety &lt;dbl&gt; | depression &lt;dbl&gt; | insomnia &lt;dbl&gt; | ocd &lt;dbl&gt; | music.effects &lt;chr&gt; |\n|---|---|---|---|---|---|---|---|---|---|---|---|---|---|---|---|---|---|---|---|---|---|\n| 731 | 10/30/2022 13:15 | 21 | Spotify                 | 2 | Yes | No  | No  | R&amp;B       | Yes | Yes | ⋯ | Sometimes       | Very frequently | Sometimes       | Sometimes       | Sometimes | 7 | 6 | 4 | 6 | Improve |\n| 732 | 10/30/2022 14:37 | 17 | Spotify                 | 2 | Yes | Yes | No  | Rock      | Yes | Yes | ⋯ | Very frequently | Never           | Rarely          | Very frequently | Never     | 7 | 6 | 0 | 9 | Improve |\n| 733 | 11/1/2022 22:26  | 18 | Spotify                 | 1 | Yes | Yes | No  | Pop       | Yes | Yes | ⋯ | Very frequently | Never           | Never           | Sometimes       | Sometimes | 3 | 2 | 2 | 5 | Improve |\n| 734 | 11/3/2022 23:24  | 19 | Other streaming service | 6 | Yes | No  | Yes | Rap       | Yes | No  | ⋯ | Sometimes       | Sometimes       | Sometimes       | Rarely          | Rarely    | 2 | 2 | 2 | 2 | Improve |\n| 735 | 11/4/2022 17:31  | 19 | Spotify                 | 5 | Yes | Yes | No  | Classical | No  | No  | ⋯ | Never           | Never           | Never           | Never           | Sometimes | 2 | 3 | 2 | 1 | Improve |\n| 736 | 11/9/2022 1:55   | 29 | YouTube Music           | 2 | Yes | No  | No  | Hip hop   | Yes | Yes | ⋯ | Sometimes       | Very frequently | Very frequently | Very frequently | Rarely    | 2 | 2 | 2 | 5 | Improve |\n\n",
            "text/latex": "A data.frame: 6 × 32\n\\begin{tabular}{r|lllllllllllllllllllll}\n  & timestamp & age & primary.streaming.service & hourslistened & while.working & instrumentalist & composer & fav.genre & exploratory & foreign.languages & ⋯ & frequency..pop. & frequency..r.b. & frequency..rap. & frequency..rock. & frequency..video.game.music. & anxiety & depression & insomnia & ocd & music.effects\\\\\n  & <chr> & <int> & <chr> & <dbl> & <chr> & <chr> & <chr> & <chr> & <chr> & <chr> & ⋯ & <chr> & <chr> & <chr> & <chr> & <chr> & <dbl> & <dbl> & <dbl> & <dbl> & <chr>\\\\\n\\hline\n\t731 & 10/30/2022 13:15 & 21 & Spotify                 & 2 & Yes & No  & No  & R\\&B       & Yes & Yes & ⋯ & Sometimes       & Very frequently & Sometimes       & Sometimes       & Sometimes & 7 & 6 & 4 & 6 & Improve\\\\\n\t732 & 10/30/2022 14:37 & 17 & Spotify                 & 2 & Yes & Yes & No  & Rock      & Yes & Yes & ⋯ & Very frequently & Never           & Rarely          & Very frequently & Never     & 7 & 6 & 0 & 9 & Improve\\\\\n\t733 & 11/1/2022 22:26  & 18 & Spotify                 & 1 & Yes & Yes & No  & Pop       & Yes & Yes & ⋯ & Very frequently & Never           & Never           & Sometimes       & Sometimes & 3 & 2 & 2 & 5 & Improve\\\\\n\t734 & 11/3/2022 23:24  & 19 & Other streaming service & 6 & Yes & No  & Yes & Rap       & Yes & No  & ⋯ & Sometimes       & Sometimes       & Sometimes       & Rarely          & Rarely    & 2 & 2 & 2 & 2 & Improve\\\\\n\t735 & 11/4/2022 17:31  & 19 & Spotify                 & 5 & Yes & Yes & No  & Classical & No  & No  & ⋯ & Never           & Never           & Never           & Never           & Sometimes & 2 & 3 & 2 & 1 & Improve\\\\\n\t736 & 11/9/2022 1:55   & 29 & YouTube Music           & 2 & Yes & No  & No  & Hip hop   & Yes & Yes & ⋯ & Sometimes       & Very frequently & Very frequently & Very frequently & Rarely    & 2 & 2 & 2 & 5 & Improve\\\\\n\\end{tabular}\n",
            "text/plain": [
              "    timestamp        age primary.streaming.service hourslistened while.working\n",
              "731 10/30/2022 13:15 21  Spotify                   2             Yes          \n",
              "732 10/30/2022 14:37 17  Spotify                   2             Yes          \n",
              "733 11/1/2022 22:26  18  Spotify                   1             Yes          \n",
              "734 11/3/2022 23:24  19  Other streaming service   6             Yes          \n",
              "735 11/4/2022 17:31  19  Spotify                   5             Yes          \n",
              "736 11/9/2022 1:55   29  YouTube Music             2             Yes          \n",
              "    instrumentalist composer fav.genre exploratory foreign.languages ⋯\n",
              "731 No              No       R&B       Yes         Yes               ⋯\n",
              "732 Yes             No       Rock      Yes         Yes               ⋯\n",
              "733 Yes             No       Pop       Yes         Yes               ⋯\n",
              "734 No              Yes      Rap       Yes         No                ⋯\n",
              "735 Yes             No       Classical No          No                ⋯\n",
              "736 No              No       Hip hop   Yes         Yes               ⋯\n",
              "    frequency..pop. frequency..r.b. frequency..rap. frequency..rock.\n",
              "731 Sometimes       Very frequently Sometimes       Sometimes       \n",
              "732 Very frequently Never           Rarely          Very frequently \n",
              "733 Very frequently Never           Never           Sometimes       \n",
              "734 Sometimes       Sometimes       Sometimes       Rarely          \n",
              "735 Never           Never           Never           Never           \n",
              "736 Sometimes       Very frequently Very frequently Very frequently \n",
              "    frequency..video.game.music. anxiety depression insomnia ocd music.effects\n",
              "731 Sometimes                    7       6          4        6   Improve      \n",
              "732 Never                        7       6          0        9   Improve      \n",
              "733 Sometimes                    3       2          2        5   Improve      \n",
              "734 Rarely                       2       2          2        2   Improve      \n",
              "735 Sometimes                    2       3          2        1   Improve      \n",
              "736 Rarely                       2       2          2        5   Improve      "
            ]
          },
          "metadata": {}
        }
      ]
    },
    {
      "cell_type": "markdown",
      "source": [
        "## Clean and join"
      ],
      "metadata": {
        "id": "0mtTyEUe6Tzb"
      }
    },
    {
      "cell_type": "code",
      "source": [
        "names(data) = trimws(str_to_lower(str_replace_all(names(data), \" \", \"_\")))"
      ],
      "metadata": {
        "id": "nIL7G6jE_7_Y"
      },
      "execution_count": 7,
      "outputs": []
    },
    {
      "cell_type": "code",
      "source": [
        "glimpse(data)"
      ],
      "metadata": {
        "colab": {
          "base_uri": "https://localhost:8080/"
        },
        "collapsed": true,
        "id": "Zp_uNukA6Vjj",
        "outputId": "b19e8594-5626-4416-b93c-ef145de7e2de"
      },
      "execution_count": 11,
      "outputs": [
        {
          "output_type": "stream",
          "name": "stdout",
          "text": [
            "Rows: 736\n",
            "Columns: 32\n",
            "$ timestamp                    \u001b[3m\u001b[90m<chr>\u001b[39m\u001b[23m \"8/27/2022 19:29\"\u001b[90m, \u001b[39m\"8/27/2022 19:57\"\u001b[90m, \u001b[39m\"8/…\n",
            "$ age                          \u001b[3m\u001b[90m<int>\u001b[39m\u001b[23m 18\u001b[90m, \u001b[39m63\u001b[90m, \u001b[39m18\u001b[90m, \u001b[39m61\u001b[90m, \u001b[39m18\u001b[90m, \u001b[39m18\u001b[90m, \u001b[39m18\u001b[90m, \u001b[39m21\u001b[90m, \u001b[39m19\u001b[90m, \u001b[39m18\u001b[90m, \u001b[39m1…\n",
            "$ primary.streaming.service    \u001b[3m\u001b[90m<chr>\u001b[39m\u001b[23m \"Spotify\"\u001b[90m, \u001b[39m\"Pandora\"\u001b[90m, \u001b[39m\"Spotify\"\u001b[90m, \u001b[39m\"YouTube…\n",
            "$ hourslistened                \u001b[3m\u001b[90m<dbl>\u001b[39m\u001b[23m 3.0\u001b[90m, \u001b[39m1.5\u001b[90m, \u001b[39m4.0\u001b[90m, \u001b[39m2.5\u001b[90m, \u001b[39m4.0\u001b[90m, \u001b[39m5.0\u001b[90m, \u001b[39m3.0\u001b[90m, \u001b[39m1.0\u001b[90m, \u001b[39m6…\n",
            "$ while.working                \u001b[3m\u001b[90m<chr>\u001b[39m\u001b[23m \"Yes\"\u001b[90m, \u001b[39m\"Yes\"\u001b[90m, \u001b[39m\"No\"\u001b[90m, \u001b[39m\"Yes\"\u001b[90m, \u001b[39m\"Yes\"\u001b[90m, \u001b[39m\"Yes\"\u001b[90m, \u001b[39m…\n",
            "$ instrumentalist              \u001b[3m\u001b[90m<chr>\u001b[39m\u001b[23m \"Yes\"\u001b[90m, \u001b[39m\"No\"\u001b[90m, \u001b[39m\"No\"\u001b[90m, \u001b[39m\"No\"\u001b[90m, \u001b[39m\"No\"\u001b[90m, \u001b[39m\"Yes\"\u001b[90m, \u001b[39m\"Ye…\n",
            "$ composer                     \u001b[3m\u001b[90m<chr>\u001b[39m\u001b[23m \"Yes\"\u001b[90m, \u001b[39m\"No\"\u001b[90m, \u001b[39m\"No\"\u001b[90m, \u001b[39m\"Yes\"\u001b[90m, \u001b[39m\"No\"\u001b[90m, \u001b[39m\"Yes\"\u001b[90m, \u001b[39m\"N…\n",
            "$ fav.genre                    \u001b[3m\u001b[90m<chr>\u001b[39m\u001b[23m \"Latin\"\u001b[90m, \u001b[39m\"Rock\"\u001b[90m, \u001b[39m\"Video game music\"\u001b[90m, \u001b[39m\"Jaz…\n",
            "$ exploratory                  \u001b[3m\u001b[90m<chr>\u001b[39m\u001b[23m \"Yes\"\u001b[90m, \u001b[39m\"Yes\"\u001b[90m, \u001b[39m\"No\"\u001b[90m, \u001b[39m\"Yes\"\u001b[90m, \u001b[39m\"Yes\"\u001b[90m, \u001b[39m\"Yes\"\u001b[90m, \u001b[39m…\n",
            "$ foreign.languages            \u001b[3m\u001b[90m<chr>\u001b[39m\u001b[23m \"Yes\"\u001b[90m, \u001b[39m\"No\"\u001b[90m, \u001b[39m\"Yes\"\u001b[90m, \u001b[39m\"Yes\"\u001b[90m, \u001b[39m\"No\"\u001b[90m, \u001b[39m\"Yes\"\u001b[90m, \u001b[39m\"…\n",
            "$ bpm                          \u001b[3m\u001b[90m<int>\u001b[39m\u001b[23m 156\u001b[90m, \u001b[39m119\u001b[90m, \u001b[39m132\u001b[90m, \u001b[39m84\u001b[90m, \u001b[39m107\u001b[90m, \u001b[39m86\u001b[90m, \u001b[39m66\u001b[90m, \u001b[39m95\u001b[90m, \u001b[39m94\u001b[90m, \u001b[39m1…\n",
            "$ frequency..classical.        \u001b[3m\u001b[90m<chr>\u001b[39m\u001b[23m \"Rarely\"\u001b[90m, \u001b[39m\"Sometimes\"\u001b[90m, \u001b[39m\"Never\"\u001b[90m, \u001b[39m\"Sometime…\n",
            "$ frequency..country.          \u001b[3m\u001b[90m<chr>\u001b[39m\u001b[23m \"Never\"\u001b[90m, \u001b[39m\"Never\"\u001b[90m, \u001b[39m\"Never\"\u001b[90m, \u001b[39m\"Never\"\u001b[90m, \u001b[39m\"Neve…\n",
            "$ frequency..edm.              \u001b[3m\u001b[90m<chr>\u001b[39m\u001b[23m \"Rarely\"\u001b[90m, \u001b[39m\"Never\"\u001b[90m, \u001b[39m\"Very frequently\"\u001b[90m, \u001b[39m\"Ne…\n",
            "$ frequency..folk.             \u001b[3m\u001b[90m<chr>\u001b[39m\u001b[23m \"Never\"\u001b[90m, \u001b[39m\"Rarely\"\u001b[90m, \u001b[39m\"Never\"\u001b[90m, \u001b[39m\"Rarely\"\u001b[90m, \u001b[39m\"Ne…\n",
            "$ frequency..gospel.           \u001b[3m\u001b[90m<chr>\u001b[39m\u001b[23m \"Never\"\u001b[90m, \u001b[39m\"Sometimes\"\u001b[90m, \u001b[39m\"Never\"\u001b[90m, \u001b[39m\"Sometimes…\n",
            "$ frequency..hip.hop.          \u001b[3m\u001b[90m<chr>\u001b[39m\u001b[23m \"Sometimes\"\u001b[90m, \u001b[39m\"Rarely\"\u001b[90m, \u001b[39m\"Rarely\"\u001b[90m, \u001b[39m\"Never\"\u001b[90m,\u001b[39m…\n",
            "$ frequency..jazz.             \u001b[3m\u001b[90m<chr>\u001b[39m\u001b[23m \"Never\"\u001b[90m, \u001b[39m\"Very frequently\"\u001b[90m, \u001b[39m\"Rarely\"\u001b[90m, \u001b[39m\"Ve…\n",
            "$ frequency..k.pop.            \u001b[3m\u001b[90m<chr>\u001b[39m\u001b[23m \"Very frequently\"\u001b[90m, \u001b[39m\"Rarely\"\u001b[90m, \u001b[39m\"Very freque…\n",
            "$ frequency..latin.            \u001b[3m\u001b[90m<chr>\u001b[39m\u001b[23m \"Very frequently\"\u001b[90m, \u001b[39m\"Sometimes\"\u001b[90m, \u001b[39m\"Never\"\u001b[90m, \u001b[39m…\n",
            "$ frequency..lofi.             \u001b[3m\u001b[90m<chr>\u001b[39m\u001b[23m \"Rarely\"\u001b[90m, \u001b[39m\"Rarely\"\u001b[90m, \u001b[39m\"Sometimes\"\u001b[90m, \u001b[39m\"Sometim…\n",
            "$ frequency..metal.            \u001b[3m\u001b[90m<chr>\u001b[39m\u001b[23m \"Never\"\u001b[90m, \u001b[39m\"Never\"\u001b[90m, \u001b[39m\"Sometimes\"\u001b[90m, \u001b[39m\"Never\"\u001b[90m, \u001b[39m\"…\n",
            "$ frequency..pop.              \u001b[3m\u001b[90m<chr>\u001b[39m\u001b[23m \"Very frequently\"\u001b[90m, \u001b[39m\"Sometimes\"\u001b[90m, \u001b[39m\"Rarely\"\u001b[90m,\u001b[39m…\n",
            "$ frequency..r.b.              \u001b[3m\u001b[90m<chr>\u001b[39m\u001b[23m \"Sometimes\"\u001b[90m, \u001b[39m\"Sometimes\"\u001b[90m, \u001b[39m\"Never\"\u001b[90m, \u001b[39m\"Somet…\n",
            "$ frequency..rap.              \u001b[3m\u001b[90m<chr>\u001b[39m\u001b[23m \"Very frequently\"\u001b[90m, \u001b[39m\"Rarely\"\u001b[90m, \u001b[39m\"Rarely\"\u001b[90m, \u001b[39m\"N…\n",
            "$ frequency..rock.             \u001b[3m\u001b[90m<chr>\u001b[39m\u001b[23m \"Never\"\u001b[90m, \u001b[39m\"Very frequently\"\u001b[90m, \u001b[39m\"Rarely\"\u001b[90m, \u001b[39m\"Ne…\n",
            "$ frequency..video.game.music. \u001b[3m\u001b[90m<chr>\u001b[39m\u001b[23m \"Sometimes\"\u001b[90m, \u001b[39m\"Rarely\"\u001b[90m, \u001b[39m\"Very frequently\"\u001b[90m,\u001b[39m…\n",
            "$ anxiety                      \u001b[3m\u001b[90m<dbl>\u001b[39m\u001b[23m 3\u001b[90m, \u001b[39m7\u001b[90m, \u001b[39m7\u001b[90m, \u001b[39m9\u001b[90m, \u001b[39m7\u001b[90m, \u001b[39m8\u001b[90m, \u001b[39m4\u001b[90m, \u001b[39m5\u001b[90m, \u001b[39m2\u001b[90m, \u001b[39m2\u001b[90m, \u001b[39m7\u001b[90m, \u001b[39m1\u001b[90m, \u001b[39m9\u001b[90m, \u001b[39m2\u001b[90m,\u001b[39m…\n",
            "$ depression                   \u001b[3m\u001b[90m<dbl>\u001b[39m\u001b[23m 0\u001b[90m, \u001b[39m2\u001b[90m, \u001b[39m7\u001b[90m, \u001b[39m7\u001b[90m, \u001b[39m2\u001b[90m, \u001b[39m8\u001b[90m, \u001b[39m8\u001b[90m, \u001b[39m3\u001b[90m, \u001b[39m0\u001b[90m, \u001b[39m2\u001b[90m, \u001b[39m7\u001b[90m, \u001b[39m0\u001b[90m, \u001b[39m3\u001b[90m, \u001b[39m1\u001b[90m,\u001b[39m…\n",
            "$ insomnia                     \u001b[3m\u001b[90m<dbl>\u001b[39m\u001b[23m 1\u001b[90m, \u001b[39m2\u001b[90m, \u001b[39m10\u001b[90m, \u001b[39m3\u001b[90m, \u001b[39m5\u001b[90m, \u001b[39m7\u001b[90m, \u001b[39m6\u001b[90m, \u001b[39m5\u001b[90m, \u001b[39m0\u001b[90m, \u001b[39m5\u001b[90m, \u001b[39m4\u001b[90m, \u001b[39m0\u001b[90m, \u001b[39m2\u001b[90m, \u001b[39m2…\n",
            "$ ocd                          \u001b[3m\u001b[90m<dbl>\u001b[39m\u001b[23m 0\u001b[90m, \u001b[39m1\u001b[90m, \u001b[39m2\u001b[90m, \u001b[39m3\u001b[90m, \u001b[39m9\u001b[90m, \u001b[39m7\u001b[90m, \u001b[39m0\u001b[90m, \u001b[39m3\u001b[90m, \u001b[39m0\u001b[90m, \u001b[39m1\u001b[90m, \u001b[39m7\u001b[90m, \u001b[39m1\u001b[90m, \u001b[39m7\u001b[90m, \u001b[39m0\u001b[90m,\u001b[39m…\n",
            "$ music.effects                \u001b[3m\u001b[90m<chr>\u001b[39m\u001b[23m \"\"\u001b[90m, \u001b[39m\"\"\u001b[90m, \u001b[39m\"No effect\"\u001b[90m, \u001b[39m\"Improve\"\u001b[90m, \u001b[39m\"Improve\"…\n"
          ]
        }
      ]
    },
    {
      "cell_type": "markdown",
      "source": [
        "## Level 1: Preparing the data\n",
        "Remove participants who are missing ‘Age’ and ‘BPM’"
      ],
      "metadata": {
        "id": "0kHGY3eFqmsY"
      }
    },
    {
      "cell_type": "code",
      "source": [
        "data1=data |> filter(!is.na(age) & !is.na(bpm))\n",
        "\n",
        "str(data1)"
      ],
      "metadata": {
        "colab": {
          "base_uri": "https://localhost:8080/"
        },
        "id": "7XR2sW-mqrsG",
        "outputId": "bcb41597-0563-4e03-e127-f72a8c08566b"
      },
      "execution_count": 14,
      "outputs": [
        {
          "output_type": "stream",
          "name": "stdout",
          "text": [
            "'data.frame':\t629 obs. of  32 variables:\n",
            " $ timestamp                   : chr  \"8/27/2022 19:29\" \"8/27/2022 19:57\" \"8/27/2022 21:28\" \"8/27/2022 21:40\" ...\n",
            " $ age                         : int  18 63 18 61 18 18 18 21 19 18 ...\n",
            " $ primary.streaming.service   : chr  \"Spotify\" \"Pandora\" \"Spotify\" \"YouTube Music\" ...\n",
            " $ hourslistened               : num  3 1.5 4 2.5 4 5 3 1 6 1 ...\n",
            " $ while.working               : chr  \"Yes\" \"Yes\" \"No\" \"Yes\" ...\n",
            " $ instrumentalist             : chr  \"Yes\" \"No\" \"No\" \"No\" ...\n",
            " $ composer                    : chr  \"Yes\" \"No\" \"No\" \"Yes\" ...\n",
            " $ fav.genre                   : chr  \"Latin\" \"Rock\" \"Video game music\" \"Jazz\" ...\n",
            " $ exploratory                 : chr  \"Yes\" \"Yes\" \"No\" \"Yes\" ...\n",
            " $ foreign.languages           : chr  \"Yes\" \"No\" \"Yes\" \"Yes\" ...\n",
            " $ bpm                         : int  156 119 132 84 107 86 66 95 94 155 ...\n",
            " $ frequency..classical.       : chr  \"Rarely\" \"Sometimes\" \"Never\" \"Sometimes\" ...\n",
            " $ frequency..country.         : chr  \"Never\" \"Never\" \"Never\" \"Never\" ...\n",
            " $ frequency..edm.             : chr  \"Rarely\" \"Never\" \"Very frequently\" \"Never\" ...\n",
            " $ frequency..folk.            : chr  \"Never\" \"Rarely\" \"Never\" \"Rarely\" ...\n",
            " $ frequency..gospel.          : chr  \"Never\" \"Sometimes\" \"Never\" \"Sometimes\" ...\n",
            " $ frequency..hip.hop.         : chr  \"Sometimes\" \"Rarely\" \"Rarely\" \"Never\" ...\n",
            " $ frequency..jazz.            : chr  \"Never\" \"Very frequently\" \"Rarely\" \"Very frequently\" ...\n",
            " $ frequency..k.pop.           : chr  \"Very frequently\" \"Rarely\" \"Very frequently\" \"Sometimes\" ...\n",
            " $ frequency..latin.           : chr  \"Very frequently\" \"Sometimes\" \"Never\" \"Very frequently\" ...\n",
            " $ frequency..lofi.            : chr  \"Rarely\" \"Rarely\" \"Sometimes\" \"Sometimes\" ...\n",
            " $ frequency..metal.           : chr  \"Never\" \"Never\" \"Sometimes\" \"Never\" ...\n",
            " $ frequency..pop.             : chr  \"Very frequently\" \"Sometimes\" \"Rarely\" \"Sometimes\" ...\n",
            " $ frequency..r.b.             : chr  \"Sometimes\" \"Sometimes\" \"Never\" \"Sometimes\" ...\n",
            " $ frequency..rap.             : chr  \"Very frequently\" \"Rarely\" \"Rarely\" \"Never\" ...\n",
            " $ frequency..rock.            : chr  \"Never\" \"Very frequently\" \"Rarely\" \"Never\" ...\n",
            " $ frequency..video.game.music.: chr  \"Sometimes\" \"Rarely\" \"Very frequently\" \"Never\" ...\n",
            " $ anxiety                     : num  3 7 7 9 7 8 4 5 2 2 ...\n",
            " $ depression                  : num  0 2 7 7 2 8 8 3 0 2 ...\n",
            " $ insomnia                    : num  1 2 10 3 5 7 6 5 0 5 ...\n",
            " $ ocd                         : num  0 1 2 3 9 7 0 3 0 1 ...\n",
            " $ music.effects               : chr  \"\" \"\" \"No effect\" \"Improve\" ...\n"
          ]
        }
      ]
    },
    {
      "cell_type": "markdown",
      "source": [
        "## Level 2: Data inspection\n",
        "\n",
        "• Identify participants with values considered outliers for ‘BPM’.\n",
        "\n",
        "a. Test your skills: Visualize outlier values for ‘BPM’.\n",
        "\n",
        "• Is BPM skewed? If so, how?\n",
        "\n",
        "• Identify participants with values considered outliers for ‘hourslistened’\n",
        "\n",
        "• Remove participants with values considered outliers on ‘BPM’ and ‘hourslistened’"
      ],
      "metadata": {
        "id": "_Gb_k3EHqtXt"
      }
    },
    {
      "cell_type": "code",
      "source": [
        "data1$bpm2 = as.numeric(data1$bpm)\n",
        "\n",
        "boxplot(data1$bpm2)"
      ],
      "metadata": {
        "colab": {
          "base_uri": "https://localhost:8080/",
          "height": 437
        },
        "id": "mD5R1z9GyrYC",
        "outputId": "9f1bce66-e3f4-4bab-86aa-52361bbffa5a"
      },
      "execution_count": 21,
      "outputs": [
        {
          "output_type": "display_data",
          "data": {
            "text/plain": [
              "plot without title"
            ],
            "image/png": "[encoded data removed]"
          },
          "metadata": {
            "image/png": {
              "width": 420,
              "height": 420
            }
          }
        }
      ]
    },
    {
      "cell_type": "code",
      "source": [
        "data2 = data1 |> filter(bpm < 200 & bpm > 40)\n",
        "\n",
        "boxplot(data2$bpm)\n",
        "summary(data2$bpm)"
      ],
      "metadata": {
        "colab": {
          "base_uri": "https://localhost:8080/",
          "height": 472
        },
        "id": "CmCycMD0z_ia",
        "outputId": "474f7cb0-5ca4-4846-f19f-78fd8099fc04"
      },
      "execution_count": 30,
      "outputs": [
        {
          "output_type": "display_data",
          "data": {
            "text/plain": [
              "   Min. 1st Qu.  Median    Mean 3rd Qu.    Max. \n",
              "     52     100     120     122     140     194 "
            ]
          },
          "metadata": {}
        },
        {
          "output_type": "display_data",
          "data": {
            "text/plain": [
              "plot without title"
            ],
            "image/png": "[encoded data removed]"
          },
          "metadata": {
            "image/png": {
              "width": 420,
              "height": 420
            }
          }
        }
      ]
    },
    {
      "cell_type": "markdown",
      "source": [
        "## Level 2: Descriptives\n",
        "\n",
        "• Find the mean, standard deviation, median, and range of ‘hourslistened’\n",
        "\n",
        "a. Test your skills: Find the mean, standard deviation, median, and range of ‘hourslistened’ in one step."
      ],
      "metadata": {
        "id": "ep4UVHBisD2e"
      }
    },
    {
      "cell_type": "code",
      "source": [],
      "metadata": {
        "id": "A3ueK9mFyiSi"
      },
      "execution_count": null,
      "outputs": []
    },
    {
      "cell_type": "markdown",
      "source": [
        "## Plots"
      ],
      "metadata": {
        "id": "Xuu5dpuA6M_0"
      }
    },
    {
      "cell_type": "code",
      "source": [],
      "metadata": {
        "id": "mXLfx9cK9CZK"
      },
      "execution_count": null,
      "outputs": []
    }
  ]
}